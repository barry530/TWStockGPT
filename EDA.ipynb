{
 "cells": [
  {
   "cell_type": "code",
   "execution_count": null,
   "id": "f212eb19-0c5d-4da7-95bb-411fbea016ea",
   "metadata": {},
   "outputs": [],
   "source": []
  },
  {
   "cell_type": "markdown",
   "id": "15619337-dc8e-40c7-8de6-2b024aebf5e7",
   "metadata": {
    "id": "15619337-dc8e-40c7-8de6-2b024aebf5e7"
   },
   "source": [
    "- [Document](https://www.notion.so/681269f8384e45cab0a0caf79f8fe32e)\n",
    "- [twstock](https://github.com/mlouielu/twstock)\n",
    "- 用歷史股價 成交量 財報 進階指標 宏觀經濟指標:如GDP增長率、通貨膨脹率、失業率、利率"
   ]
  },
  {
   "cell_type": "code",
   "execution_count": 1,
   "id": "8h-3M_add07V",
   "metadata": {
    "colab": {
     "base_uri": "https://localhost:8080/"
    },
    "executionInfo": {
     "elapsed": 10700,
     "status": "ok",
     "timestamp": 1717910865310,
     "user": {
      "displayName": "武靖祐",
      "userId": "02876468399051284558"
     },
     "user_tz": -480
    },
    "id": "8h-3M_add07V",
    "outputId": "aa311e43-fa1e-4de1-c910-f59cae45d436",
    "tags": []
   },
   "outputs": [],
   "source": [
    "# pip install twstock"
   ]
  },
  {
   "cell_type": "code",
   "execution_count": 2,
   "id": "48282d22-ff82-404f-802b-f0e9d04f1afa",
   "metadata": {
    "id": "48282d22-ff82-404f-802b-f0e9d04f1afa",
    "tags": []
   },
   "outputs": [],
   "source": [
    "import re\n",
    "import os\n",
    "import gc\n",
    "import time\n",
    "import requests\n",
    "import pandas as pd\n",
    "import numpy as np\n",
    "from pathlib import Path, PurePath\n",
    "from io import StringIO\n",
    "from datetime import datetime\n",
    "from bs4 import BeautifulSoup\n",
    "from urllib.parse import unquote, quote"
   ]
  },
  {
   "cell_type": "code",
   "execution_count": 3,
   "id": "a049a91d-de39-4658-9ec0-79ab97779f6f",
   "metadata": {},
   "outputs": [],
   "source": [
    "import twstock\n",
    "from twstock import Stock, BestFourPoint\n",
    "twstock.__update_codes()"
   ]
  },
  {
   "cell_type": "markdown",
   "id": "2e089563-a404-487e-aeb4-7fdf8329dd61",
   "metadata": {},
   "source": [
    "# twstock intro\n",
    "- [乖離率(BIAS)意思、如何計算？乖離率如何找買賣點？](https://www.sinotrade.com.tw/richclub/Financialfreedom/%E4%B9%96%E9%9B%A2%E7%8E%87-BIAS-%E6%84%8F%E6%80%9D-%E5%A6%82%E4%BD%95%E8%A8%88%E7%AE%97-%E4%B9%96%E9%9B%A2%E7%8E%87%E5%A6%82%E4%BD%95%E6%89%BE%E8%B2%B7%E8%B3%A3%E9%BB%9E--%E6%96%B0%E6%89%8B%E6%8A%80%E8%A1%93%E5%88%86%E6%9E%90-6566d66b11feed0ed4555f94)\n",
    "- [3分鐘認識葛蘭碧八大法則！帶你抓緊買、賣點](https://www.oanda.com/bvi-ft/lab-education/technical_analysis/moving_average-granvilles_law/)"
   ]
  },
  {
   "cell_type": "code",
   "execution_count": 31,
   "id": "2325d036-0744-459d-bb38-dc25f5eac35b",
   "metadata": {},
   "outputs": [
    {
     "data": {
      "text/plain": [
       "StockCodeInfo(type='股票', code='6640', name='均華', ISIN='TW0006640006', start='2018/10/23', market='上櫃', group='半導體業', CFI='ESVUFR')"
      ]
     },
     "execution_count": 31,
     "metadata": {},
     "output_type": "execute_result"
    }
   ],
   "source": [
    "stock = Stock('6640')\n",
    "prices = stock.price\n",
    "capacity = stock.capacity        # 成交股數\n",
    "turnover = stock.turnover        # 成交總金額\n",
    "transaction = stock.transaction  # 成交筆數\n",
    "twstock.codes['6640']"
   ]
  },
  {
   "cell_type": "code",
   "execution_count": 24,
   "id": "e8a17b85-261e-440c-8515-5e950a30bc0c",
   "metadata": {},
   "outputs": [
    {
     "data": {
      "text/plain": [
       "[875.0, 879.0, 878.0, 880.0, 968.0]"
      ]
     },
     "metadata": {},
     "output_type": "display_data"
    },
    {
     "data": {
      "text/plain": [
       "[221000, 252000, 998000, 830000, 1811000]"
      ]
     },
     "metadata": {},
     "output_type": "display_data"
    },
    {
     "data": {
      "text/plain": [
       "[193144000, 222402000, 872941000, 727330000, 1671430000]"
      ]
     },
     "metadata": {},
     "output_type": "display_data"
    },
    {
     "data": {
      "text/plain": [
       "[782, 731, 1761, 1561, 3031]"
      ]
     },
     "metadata": {},
     "output_type": "display_data"
    }
   ],
   "source": [
    "display(prices[-5:])\n",
    "display(capacity[-5:])\n",
    "display(turnover[-5:])\n",
    "display(transaction[-5:])"
   ]
  },
  {
   "cell_type": "code",
   "execution_count": 25,
   "id": "23caa2fa-8d30-4cf1-a619-15c48104bdd4",
   "metadata": {},
   "outputs": [],
   "source": [
    "ma5_p = stock.moving_average(stock.price, 5)       # Moving avg of price for 5 days\n",
    "ma_c = stock.moving_average(stock.capacity, 5)    # MA of capacity for 5 days\n",
    "ma5_p_cont = stock.continuous(ma5_p)                # 計算五日均價持續天數\n",
    "ma_br = stock.ma_bias_ratio(5, 10)                # 計算五日、十日乖離值"
   ]
  },
  {
   "cell_type": "code",
   "execution_count": 36,
   "id": "40504be2-97c2-4f72-a760-0426cb65bb8b",
   "metadata": {},
   "outputs": [
    {
     "data": {
      "text/plain": [
       "'量大收紅, 三日均價大於六日均價'"
      ]
     },
     "metadata": {},
     "output_type": "display_data"
    },
    {
     "data": {
      "text/plain": [
       "False"
      ]
     },
     "metadata": {},
     "output_type": "display_data"
    },
    {
     "data": {
      "text/plain": [
       "(True, '量大收紅, 三日均價大於六日均價')"
      ]
     },
     "metadata": {},
     "output_type": "display_data"
    }
   ],
   "source": [
    "best_four_point = BestFourPoint(stock)\n",
    "display(best_four_point.best_four_point_to_buy())   # 判斷是否為四大買點\n",
    "display(best_four_point.best_four_point_to_sell())  # 判斷是否為四大賣點\n",
    "display(best_four_point.best_four_point())          # 綜合判斷"
   ]
  },
  {
   "cell_type": "markdown",
   "id": "IQA9o4jnaJIR",
   "metadata": {
    "id": "IQA9o4jnaJIR",
    "tags": []
   },
   "source": [
    "# 月營收"
   ]
  },
  {
   "cell_type": "markdown",
   "id": "93559600-b5f6-4474-b95c-f98b70f055b4",
   "metadata": {},
   "source": [
    "# 財報\n",
    "先不拿金融保險業\n",
    "- [3大財務報表好複雜？ 基本面知識「這樣看」輕鬆懂](https://www.esunsec.com.tw/article/post.aspx?articleid=47)\n",
    "- [財報怎麼看？資產負債表、損益表、現金流量表分析教學，快速掌握公司財務重點](https://buffettonlineschool.com.tw/financial_statements/)\n",
    "- [優質好股怎麼挑](https://topics.cnyes.com/statement/)\n",
    "- [股票入門知識｜簡易從財務報表的11個指標了解一家公司](https://www.firstrade.com/zh-TW/resources/guides/stocks/financialmanagement)\n",
    "- [財報爬蟲超簡單 – 用Python一次抓綜合損益、資產負債、營利分析](https://www.finlab.tw/python-%E8%B2%A1%E5%A0%B1%E7%88%AC%E8%9F%B2-1-%E7%B6%9C%E5%90%88%E6%90%8D%E7%9B%8A%E8%A1%A8/)"
   ]
  },
  {
   "cell_type": "markdown",
   "id": "d80ace2f-9c0d-4528-aadf-e1bc6cbabc02",
   "metadata": {
    "tags": []
   },
   "source": [
    "## 爬蟲"
   ]
  },
  {
   "cell_type": "markdown",
   "id": "fb335ae4-c632-4f38-a6d5-85d56b754b38",
   "metadata": {
    "id": "fb335ae4-c632-4f38-a6d5-85d56b754b38",
    "jp-MarkdownHeadingCollapsed": true,
    "tags": []
   },
   "source": [
    "## 綜合損益表\n",
    "1. https://mops.twse.com.tw/mops/web/t163sb04\n",
    "2. https://vocus.cc/article/621b771cfd89780001458ff9\n",
    "3. https://www.youtube.com/watch?v=DK8n0_Hcmn0&list=PLnssngG5S_3Q8Yz3TN9T9we0o9hQNRYU2&index=39\n",
    "4. https://buffettonlineschool.com.tw/financial_statements/\n",
    "---\n",
    "- 營業毛利（毛損）：營業毛利\n",
    "- 營業利益（損失）：營業利益\n",
    "- 營業外收入及支出：業外收支\n",
    "- 所得稅費用（利益）：所得稅\n",
    "- 本期淨利（淨損）：稅後淨利\n",
    "- 稅前淨利（淨損）：稅前淨利\n",
    "---\n",
    "- 營業收入＝營業成本＋營業毛利\n",
    "    - computational 營業收入＝營業收入＋原始認列生物資產及農產品之利益（損失）＋生物資產當期公允價值減出售成本之變動利益（損失）\n",
    "- 營業毛利＝營業費用＋營業利益\n",
    "    - computational 營業毛利＋其他收益及費損淨額＋已實現銷貨（損）益-未實現銷貨（損）益＝營業費用']-營業利益（損失）\n",
    "- 稅前淨利＝業外收支＋營業利益\n",
    "- 稅前淨利＝所得稅＋稅後淨利\n",
    "\n",
    "**獲利三率**\n",
    "- 毛利率：營業毛利／營業收入 × 100% \n",
    "    - 產業競爭力\n",
    "- 營益率：營業利益／營業收入 × 100% \n",
    "    - 本業的獲利能力\n",
    "- 淨利率：稅後淨利／營業收入 × 100%\n",
    "    - 每一元的銷貨究竟貢獻公司多少實際營收"
   ]
  },
  {
   "cell_type": "code",
   "execution_count": 43,
   "id": "181ddcef-b49d-4417-b6c9-cbfac538a194",
   "metadata": {
    "tags": []
   },
   "outputs": [],
   "source": [
    "# df = pd.read_feather('./raw_data/comprehensive_income/comprehensive_income_2024s1.feather')\n",
    "df = pd.read_feather('comprehensive_income_2024s1.feather')\n",
    "df = df.merge(df_stocks[['code', 'name', 'group']], on='code', how='inner').copy()"
   ]
  },
  {
   "cell_type": "code",
   "execution_count": 45,
   "id": "ddedcf6c-f47b-41b7-828a-f07cfb8c643c",
   "metadata": {
    "tags": []
   },
   "outputs": [
    {
     "data": {
      "text/plain": [
       "(1009, 60)"
      ]
     },
     "metadata": {},
     "output_type": "display_data"
    },
    {
     "data": {
      "text/plain": [
       "(741, 60)"
      ]
     },
     "metadata": {},
     "output_type": "display_data"
    },
    {
     "data": {
      "text/html": [
       "<div>\n",
       "<style scoped>\n",
       "    .dataframe tbody tr th:only-of-type {\n",
       "        vertical-align: middle;\n",
       "    }\n",
       "\n",
       "    .dataframe tbody tr th {\n",
       "        vertical-align: top;\n",
       "    }\n",
       "\n",
       "    .dataframe thead th {\n",
       "        text-align: right;\n",
       "    }\n",
       "</style>\n",
       "<table border=\"1\" class=\"dataframe\">\n",
       "  <thead>\n",
       "    <tr style=\"text-align: right;\">\n",
       "      <th></th>\n",
       "      <th>code</th>\n",
       "      <th>name</th>\n",
       "      <th>group</th>\n",
       "      <th>year</th>\n",
       "      <th>season</th>\n",
       "      <th>operating_rev</th>\n",
       "      <th>operating_cost</th>\n",
       "      <th>gross_profit</th>\n",
       "      <th>operating_expenses</th>\n",
       "      <th>operating_income</th>\n",
       "      <th>non_operating_income_and_expenses</th>\n",
       "      <th>tax</th>\n",
       "      <th>net_income_after_tax</th>\n",
       "      <th>net_income_before_tax</th>\n",
       "      <th>EPS</th>\n",
       "    </tr>\n",
       "  </thead>\n",
       "  <tbody>\n",
       "    <tr>\n",
       "      <th>14</th>\n",
       "      <td>1101</td>\n",
       "      <td>台泥</td>\n",
       "      <td>水泥工業</td>\n",
       "      <td>2024</td>\n",
       "      <td>1</td>\n",
       "      <td>25544600.0</td>\n",
       "      <td>21657138.0</td>\n",
       "      <td>3887461.0</td>\n",
       "      <td>2687318.0</td>\n",
       "      <td>1200143.0</td>\n",
       "      <td>2150817.0</td>\n",
       "      <td>1111614.0</td>\n",
       "      <td>2239346.0</td>\n",
       "      <td>3350960.0</td>\n",
       "      <td>0.26</td>\n",
       "    </tr>\n",
       "    <tr>\n",
       "      <th>15</th>\n",
       "      <td>1102</td>\n",
       "      <td>亞泥</td>\n",
       "      <td>水泥工業</td>\n",
       "      <td>2024</td>\n",
       "      <td>1</td>\n",
       "      <td>16499750.0</td>\n",
       "      <td>14742676.0</td>\n",
       "      <td>1757074.0</td>\n",
       "      <td>733461.0</td>\n",
       "      <td>1023613.0</td>\n",
       "      <td>2607650.0</td>\n",
       "      <td>815606.0</td>\n",
       "      <td>2815657.0</td>\n",
       "      <td>3631263.0</td>\n",
       "      <td>0.89</td>\n",
       "    </tr>\n",
       "    <tr>\n",
       "      <th>17</th>\n",
       "      <td>1104</td>\n",
       "      <td>環泥</td>\n",
       "      <td>水泥工業</td>\n",
       "      <td>2024</td>\n",
       "      <td>1</td>\n",
       "      <td>1908572.0</td>\n",
       "      <td>1525149.0</td>\n",
       "      <td>383423.0</td>\n",
       "      <td>137246.0</td>\n",
       "      <td>246177.0</td>\n",
       "      <td>104909.0</td>\n",
       "      <td>96504.0</td>\n",
       "      <td>254582.0</td>\n",
       "      <td>351086.0</td>\n",
       "      <td>0.37</td>\n",
       "    </tr>\n",
       "    <tr>\n",
       "      <th>18</th>\n",
       "      <td>1108</td>\n",
       "      <td>幸福</td>\n",
       "      <td>水泥工業</td>\n",
       "      <td>2024</td>\n",
       "      <td>1</td>\n",
       "      <td>1192968.0</td>\n",
       "      <td>967758.0</td>\n",
       "      <td>225210.0</td>\n",
       "      <td>64373.0</td>\n",
       "      <td>161548.0</td>\n",
       "      <td>-8274.0</td>\n",
       "      <td>31162.0</td>\n",
       "      <td>122112.0</td>\n",
       "      <td>153274.0</td>\n",
       "      <td>0.30</td>\n",
       "    </tr>\n",
       "    <tr>\n",
       "      <th>19</th>\n",
       "      <td>1109</td>\n",
       "      <td>信大</td>\n",
       "      <td>水泥工業</td>\n",
       "      <td>2024</td>\n",
       "      <td>1</td>\n",
       "      <td>1097070.0</td>\n",
       "      <td>887220.0</td>\n",
       "      <td>209850.0</td>\n",
       "      <td>86654.0</td>\n",
       "      <td>123196.0</td>\n",
       "      <td>15710.0</td>\n",
       "      <td>32777.0</td>\n",
       "      <td>106129.0</td>\n",
       "      <td>138906.0</td>\n",
       "      <td>0.35</td>\n",
       "    </tr>\n",
       "  </tbody>\n",
       "</table>\n",
       "</div>"
      ],
      "text/plain": [
       "    code name group  year  season  operating_rev  operating_cost  \\\n",
       "14  1101   台泥  水泥工業  2024       1     25544600.0      21657138.0   \n",
       "15  1102   亞泥  水泥工業  2024       1     16499750.0      14742676.0   \n",
       "17  1104   環泥  水泥工業  2024       1      1908572.0       1525149.0   \n",
       "18  1108   幸福  水泥工業  2024       1      1192968.0        967758.0   \n",
       "19  1109   信大  水泥工業  2024       1      1097070.0        887220.0   \n",
       "\n",
       "    gross_profit  operating_expenses  operating_income  \\\n",
       "14     3887461.0           2687318.0         1200143.0   \n",
       "15     1757074.0            733461.0         1023613.0   \n",
       "17      383423.0            137246.0          246177.0   \n",
       "18      225210.0             64373.0          161548.0   \n",
       "19      209850.0             86654.0          123196.0   \n",
       "\n",
       "    non_operating_income_and_expenses        tax  net_income_after_tax  \\\n",
       "14                          2150817.0  1111614.0             2239346.0   \n",
       "15                          2607650.0   815606.0             2815657.0   \n",
       "17                           104909.0    96504.0              254582.0   \n",
       "18                            -8274.0    31162.0              122112.0   \n",
       "19                            15710.0    32777.0              106129.0   \n",
       "\n",
       "    net_income_before_tax   EPS  \n",
       "14              3350960.0  0.26  \n",
       "15              3631263.0  0.89  \n",
       "17               351086.0  0.37  \n",
       "18               153274.0  0.30  \n",
       "19               138906.0  0.35  "
      ]
     },
     "execution_count": 45,
     "metadata": {},
     "output_type": "execute_result"
    }
   ],
   "source": [
    "cols = ['code', 'name', 'group', 'year', 'season', '營業收入', '營業成本', '營業毛利（毛損）', '營業費用',\n",
    "        '營業利益（損失）', '營業外收入及支出', '所得稅費用（利益）', '本期淨利（淨損）', '稅前淨利（淨損）', '基本每股盈餘（元）']\n",
    "conds = df[cols].notna().all(axis=1) & \\\n",
    "    (df['基本每股盈餘（元）'] > 0) & \\\n",
    "    (df['停業單位損益'].isna())\n",
    "result = df[conds].copy()\n",
    "display(result.shape)\n",
    "\n",
    "result['毛利率(%)'] = (result['營業毛利（毛損）'] / result['營業收入'] * 100).copy()\n",
    "result['營益率(%)'] = (result['營業利益（損失）'] / result['營業收入'] * 100).copy()\n",
    "result['淨利率(%)'] = (result['本期淨利（淨損）'] / result['營業收入'] * 100).copy()\n",
    "\n",
    "column_mapping = {\n",
    "    '營業收入': 'operating_rev',\n",
    "    '營業成本': 'operating_cost',\n",
    "    '營業毛利（毛損）': 'gross_profit',\n",
    "    '營業費用': 'operating_expenses',\n",
    "    '營業利益（損失）': 'operating_income',\n",
    "    '營業外收入及支出': 'non_operating_income_and_expenses',\n",
    "    '所得稅費用（利益）': 'tax',\n",
    "    '本期淨利（淨損）': 'net_income_after_tax',\n",
    "    '稅前淨利（淨損）': 'net_income_before_tax',\n",
    "    '毛利率(%)': 'gross_margin_pctg',\n",
    "    '營益率(%)': 'operating_margin_pctg',\n",
    "    '淨利率(%)': 'net_profit_margin_pctg',\n",
    "    '基本每股盈餘（元）': 'EPS'\n",
    "}\n",
    "result = result[cols].rename(columns=column_mapping).copy()\n",
    "result.head()"
   ]
  },
  {
   "cell_type": "code",
   "execution_count": 64,
   "id": "528ef992-7ab3-4e9c-a9c5-18b4288465e5",
   "metadata": {},
   "outputs": [],
   "source": [
    "def process_comprehensive_income(df: pd.DataFrame, stock_list: pd.DataFrame = df_stocks):\n",
    "    result = df.merge(stock_list[['code', 'name', 'group']], on='code', how='inner').copy()\n",
    "    cols = ['code', 'name', 'group', 'year', 'season',\n",
    "            '營業收入', '營業成本', '營業毛利（毛損）', '營業費用', '營業利益（損失）',\n",
    "            '營業外收入及支出', '所得稅費用（利益）', '本期淨利（淨損）', '稅前淨利（淨損）', '基本每股盈餘（元）']\n",
    "    conds = result[cols].notna().all(axis=1) & \\\n",
    "        (result['基本每股盈餘（元）'] > 0) & \\\n",
    "        (result['停業單位損益'].isna())\n",
    "    result = result[conds].copy()\n",
    "    result['毛利率(%)'] = (result['營業毛利（毛損）'] / result['營業收入'] * 100).copy()\n",
    "    result['營益率(%)'] = (result['營業利益（損失）'] / result['營業收入'] * 100).copy()\n",
    "    result['淨利率(%)'] = (result['本期淨利（淨損）'] / result['營業收入'] * 100).copy()\n",
    "    column_mapping = {\n",
    "        '營業收入': 'operating_rev',\n",
    "        '營業成本': 'operating_cost',\n",
    "        '營業毛利（毛損）': 'gross_profit',\n",
    "        '營業費用': 'operating_expenses',\n",
    "        '營業利益（損失）': 'operating_income',\n",
    "        '營業外收入及支出': 'non_operating_income_and_expenses',\n",
    "        '所得稅費用（利益）': 'tax',\n",
    "        '本期淨利（淨損）': 'net_income_after_tax',\n",
    "        '稅前淨利（淨損）': 'net_income_before_tax',\n",
    "        '毛利率(%)': 'gross_margin_pctg',\n",
    "        '營益率(%)': 'operating_margin_pctg',\n",
    "        '淨利率(%)': 'net_profit_margin_pctg',\n",
    "        '基本每股盈餘（元）': 'EPS',\n",
    "    }\n",
    "    result = result[cols].rename(columns=column_mapping).copy()\n",
    "    return result"
   ]
  },
  {
   "cell_type": "code",
   "execution_count": null,
   "id": "b118a7ec-130d-40a8-a8fd-d56a45101944",
   "metadata": {},
   "outputs": [],
   "source": [
    "# crawl_years = np.arange(2017, datetime.now().year).tolist()  # Backfill files from 2017s1 to now\n",
    "# fin_type = '綜合損益表'\n",
    "# stock_list = pd.read_excel(f'./raw_data/stock_list_{datetime.now().year}.xlsx', converters={'code':str})\n",
    "# save_path = PurePath(r'.\\raw_data\\comprehensive_income')\n",
    "# for y in crawl_years:\n",
    "#     for s in range(1, 5):\n",
    "#         df = financial_report(y, s, fin_type)\n",
    "#         result = process_comprehensive_income(df, stock_list)\n",
    "#         filename = f\"comprehensive_income_{y}s{s}.feather\"\n",
    "#         df.to_feather(Path(save_path / filename))\n",
    "#         print(f\"Save file {save_path / filename}\")\n",
    "#         time.sleep(1)"
   ]
  },
  {
   "cell_type": "markdown",
   "id": "0aa69b6d-2250-4b46-abb1-588838c49741",
   "metadata": {
    "tags": []
   },
   "source": [
    "## 資產負債表\n",
    "- 資產總計＝流動資產＋非流動資產\n",
    "- 負債總計＝流動負債＋非流動負債\n",
    "- 權益總計＝股本＋權益─具證券性質之虛擬通貨＋資本公積＋保留盈餘＋其他權益＋庫藏股票＋非控制權益\n",
    "- 每股參考淨值＝權益總計／在外流通股數\n",
    "---\n",
    "\n",
    "- [每股淨值](https://rich01.com/what-is-book-value-per-share/)\n",
    "- [股本](https://www.stockfeel.com.tw/%E8%82%A1%E6%9C%AC/)\n",
    "- [資產負債表怎麼看？資產、權益、負債項目有何不同？](https://www.esunsec.com.tw/article/post.aspx?articleid=64)\n",
    "- [資產負債表怎麼看？新手投資人必懂的８個關鍵](https://www.cheers.com.tw/article/article.action?id=5101696)"
   ]
  },
  {
   "cell_type": "markdown",
   "id": "8d005888-2d8f-46ad-a7b0-c5d23ab679d8",
   "metadata": {
    "tags": []
   },
   "source": [
    "## 現金流量表\n",
    "- 淨現金流（Net Cash Flow, NCF）＝營業活動之淨現金流入（流出）＋投資活動之淨現金流入（流出）＋籌資活動之淨現金流入（流出）＋匯率變動對現金及約當現金之影響\n",
    "- 淨現金流（Net Cash Flow, NCF）＝期末現金及約當現金餘額 - 期初現金及約當現金餘額\n",
    "- 自由現金流量（Free Cash Flow, FCF）＝營業活動之淨現金流入（流出）＋投資活動之淨現金流入（流出）\n",
    "\n",
    "---\n",
    "**NOTE**\n",
    "- 當我們要觀察一家公司的「自由現金流」時，可以設定近八年的數據來做觀察，這八年中最好有四到五年以上為正值，且八年的自由現金流總和應該要為正值。\n",
    "- 「籌資/融資現金流」剛好跟我們一般的直覺相反，如果「籌資/融資現金流」長期為「正值」，表示公司長期跟別人借錢，可能跟銀行貸款，可能跟投資人要錢，通常這就「不是」一個好的投資標的。\n",
    "\n",
    "**REF**\n",
    "- [看財報，先看現金流量表！ 先了解 「這 3項」現金流指標，就能找出「獲利含金量高」的好公司！](https://www.cmoney.tw/notes/note-detail.aspx?nid=93743)\n",
    "- [看懂現金流量表！現金流量表是什麼？怎麼做？現流表完整解析！](https://www.stockfeel.com.tw/%E4%B8%89%E5%A4%A7%E5%A0%B1%E8%A1%A8-%E8%B2%A1%E5%A0%B1%E5%88%86%E6%9E%90-%E7%8F%BE%E9%87%91%E6%B5%81%E9%87%8F/)\n",
    "- [怎麼看懂現金流量表？淨現金流如何計算？](https://www.esunsec.com.tw/article/post.aspx?articleid=66)"
   ]
  },
  {
   "cell_type": "markdown",
   "id": "4fa12916-861f-482e-8d35-7cc8f08ac0ee",
   "metadata": {},
   "source": [
    "# 網路文章爬蟲"
   ]
  },
  {
   "cell_type": "code",
   "execution_count": null,
   "id": "cad79381-58e1-465e-baa9-bcb003b8bf27",
   "metadata": {},
   "outputs": [],
   "source": []
  },
  {
   "cell_type": "code",
   "execution_count": null,
   "id": "545e1da4-3dc3-48df-8b30-e0ed3b16d63e",
   "metadata": {},
   "outputs": [],
   "source": []
  },
  {
   "cell_type": "code",
   "execution_count": null,
   "id": "3cc87115-0c54-4e95-8b36-f370856c95a0",
   "metadata": {},
   "outputs": [],
   "source": []
  },
  {
   "cell_type": "code",
   "execution_count": null,
   "id": "299ebc47-b57b-432b-80a3-af9a6df88e9c",
   "metadata": {},
   "outputs": [],
   "source": []
  },
  {
   "cell_type": "code",
   "execution_count": null,
   "id": "e40acd94-e73b-4fad-b453-724219756aab",
   "metadata": {},
   "outputs": [],
   "source": []
  },
  {
   "cell_type": "code",
   "execution_count": null,
   "id": "e6c8edc9-f323-4b8f-b4d7-b1ae492b9f75",
   "metadata": {
    "id": "e6c8edc9-f323-4b8f-b4d7-b1ae492b9f75"
   },
   "outputs": [],
   "source": []
  },
  {
   "cell_type": "code",
   "execution_count": null,
   "id": "f2dc5428-0907-458a-b177-4f32f95b1654",
   "metadata": {
    "id": "f2dc5428-0907-458a-b177-4f32f95b1654"
   },
   "outputs": [],
   "source": []
  },
  {
   "cell_type": "code",
   "execution_count": null,
   "id": "72f55aab-5c83-4d6c-b6f3-4352c17c60b4",
   "metadata": {
    "id": "72f55aab-5c83-4d6c-b6f3-4352c17c60b4"
   },
   "outputs": [],
   "source": []
  },
  {
   "cell_type": "code",
   "execution_count": null,
   "id": "d3d7ae44-2027-4a32-af93-548a1b80356e",
   "metadata": {
    "id": "d3d7ae44-2027-4a32-af93-548a1b80356e"
   },
   "outputs": [],
   "source": []
  },
  {
   "cell_type": "code",
   "execution_count": null,
   "id": "e56d3989-1bac-4a96-b864-fa4e254ea4cb",
   "metadata": {
    "id": "e56d3989-1bac-4a96-b864-fa4e254ea4cb"
   },
   "outputs": [],
   "source": []
  },
  {
   "cell_type": "code",
   "execution_count": null,
   "id": "d29e833d-bdb1-4cf1-8086-8a96c62b710d",
   "metadata": {
    "id": "d29e833d-bdb1-4cf1-8086-8a96c62b710d"
   },
   "outputs": [],
   "source": []
  },
  {
   "cell_type": "code",
   "execution_count": null,
   "id": "eb6f7aba-e040-4adf-b5e5-442d1bd0c40a",
   "metadata": {
    "id": "eb6f7aba-e040-4adf-b5e5-442d1bd0c40a"
   },
   "outputs": [],
   "source": []
  },
  {
   "cell_type": "code",
   "execution_count": null,
   "id": "b0ad811a-b8e0-415e-b270-aa41ec67d134",
   "metadata": {
    "id": "b0ad811a-b8e0-415e-b270-aa41ec67d134"
   },
   "outputs": [],
   "source": []
  },
  {
   "cell_type": "code",
   "execution_count": null,
   "id": "6340d400-c717-476c-a063-bebf5ae3cc2d",
   "metadata": {
    "id": "6340d400-c717-476c-a063-bebf5ae3cc2d"
   },
   "outputs": [],
   "source": []
  },
  {
   "cell_type": "code",
   "execution_count": null,
   "id": "760fc65b-0c4c-489f-ab89-247183f26f1f",
   "metadata": {
    "id": "760fc65b-0c4c-489f-ab89-247183f26f1f"
   },
   "outputs": [],
   "source": []
  },
  {
   "cell_type": "code",
   "execution_count": null,
   "id": "bbb27c83-920e-4ed0-b722-b094d63a165a",
   "metadata": {
    "id": "bbb27c83-920e-4ed0-b722-b094d63a165a"
   },
   "outputs": [],
   "source": []
  },
  {
   "cell_type": "code",
   "execution_count": null,
   "id": "f3c085c9-bdea-4aa6-a784-2a4388c92777",
   "metadata": {
    "id": "f3c085c9-bdea-4aa6-a784-2a4388c92777"
   },
   "outputs": [],
   "source": []
  },
  {
   "cell_type": "code",
   "execution_count": null,
   "id": "b021af95-02dc-45fd-9a46-721cc78a8e60",
   "metadata": {
    "id": "b021af95-02dc-45fd-9a46-721cc78a8e60"
   },
   "outputs": [],
   "source": []
  },
  {
   "cell_type": "code",
   "execution_count": null,
   "id": "716f7d96-fe00-4c42-8e47-675938d087e7",
   "metadata": {
    "id": "716f7d96-fe00-4c42-8e47-675938d087e7"
   },
   "outputs": [],
   "source": []
  },
  {
   "cell_type": "code",
   "execution_count": null,
   "id": "d05ada85-3e5a-47a5-a123-61581e5e33c2",
   "metadata": {
    "id": "d05ada85-3e5a-47a5-a123-61581e5e33c2"
   },
   "outputs": [],
   "source": []
  }
 ],
 "metadata": {
  "colab": {
   "provenance": []
  },
  "kernelspec": {
   "display_name": "Python [conda env:base] *",
   "language": "python",
   "name": "conda-base-py"
  },
  "language_info": {
   "codemirror_mode": {
    "name": "ipython",
    "version": 3
   },
   "file_extension": ".py",
   "mimetype": "text/x-python",
   "name": "python",
   "nbconvert_exporter": "python",
   "pygments_lexer": "ipython3",
   "version": "3.12.2"
  }
 },
 "nbformat": 4,
 "nbformat_minor": 5
}
