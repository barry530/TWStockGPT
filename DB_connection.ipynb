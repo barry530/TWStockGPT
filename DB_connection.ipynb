{
 "cells": [
  {
   "cell_type": "code",
   "execution_count": 2,
   "id": "5ac730f4-40c7-4b64-ab5c-951aed4a0e31",
   "metadata": {},
   "outputs": [],
   "source": [
    "from tqdm import tqdm\n",
    "\n",
    "from datetime import date, timedelta\n",
    "import pandas as pd\n",
    "import numpy as np\n",
    "from src.financial_crawler.fetch_daily_exchange import get_daily_exchange_info, get_stock_list\n",
    "from src.financial_crawler.scrape_financial_report import scrape_monthly_revenue, scrape_seasonal_report\n",
    "from src.financial_crawler.fetch_monthly_revenue import process_monthly_revenue\n",
    "from src.financial_crawler.process_comprehensive_income import process_comprehensive_income\n",
    "from src.financial_crawler.process_balance_sheet import process_balance_sheet\n",
    "from src.financial_crawler.process_cash_flow import process_cash_flow\n",
    "\n",
    "from src.news_crawler.get_anue_daily_news import get_anue_news\n",
    "from src.news_crawler.get_yahoo_daily_news import get_yahoo_news"
   ]
  },
  {
   "cell_type": "code",
   "execution_count": 3,
   "id": "aa8c7901-bacc-4b7b-b235-bd12a343d7b7",
   "metadata": {},
   "outputs": [
    {
     "ename": "FileNotFoundError",
     "evalue": "[Errno 2] No such file or directory: './data/stock_list.txt'",
     "output_type": "error",
     "traceback": [
      "\u001b[1;31m---------------------------------------------------------------------------\u001b[0m",
      "\u001b[1;31mFileNotFoundError\u001b[0m                         Traceback (most recent call last)",
      "Cell \u001b[1;32mIn[3], line 1\u001b[0m\n\u001b[1;32m----> 1\u001b[0m \u001b[38;5;28;01mwith\u001b[39;00m \u001b[38;5;28mopen\u001b[39m(\u001b[38;5;124m'\u001b[39m\u001b[38;5;124m./data/stock_list.txt\u001b[39m\u001b[38;5;124m'\u001b[39m, \u001b[38;5;124m'\u001b[39m\u001b[38;5;124mr\u001b[39m\u001b[38;5;124m'\u001b[39m, encoding\u001b[38;5;241m=\u001b[39m\u001b[38;5;124m'\u001b[39m\u001b[38;5;124mUTF-8\u001b[39m\u001b[38;5;124m'\u001b[39m) \u001b[38;5;28;01mas\u001b[39;00m f:\n\u001b[0;32m      2\u001b[0m     stock_list \u001b[38;5;241m=\u001b[39m [line\u001b[38;5;241m.\u001b[39mrstrip(\u001b[38;5;124m'\u001b[39m\u001b[38;5;130;01m\\n\u001b[39;00m\u001b[38;5;124m'\u001b[39m) \u001b[38;5;28;01mfor\u001b[39;00m line \u001b[38;5;129;01min\u001b[39;00m f]\n",
      "File \u001b[1;32m~\\anaconda3\\Lib\\site-packages\\IPython\\core\\interactiveshell.py:310\u001b[0m, in \u001b[0;36m_modified_open\u001b[1;34m(file, *args, **kwargs)\u001b[0m\n\u001b[0;32m    303\u001b[0m \u001b[38;5;28;01mif\u001b[39;00m file \u001b[38;5;129;01min\u001b[39;00m {\u001b[38;5;241m0\u001b[39m, \u001b[38;5;241m1\u001b[39m, \u001b[38;5;241m2\u001b[39m}:\n\u001b[0;32m    304\u001b[0m     \u001b[38;5;28;01mraise\u001b[39;00m \u001b[38;5;167;01mValueError\u001b[39;00m(\n\u001b[0;32m    305\u001b[0m         \u001b[38;5;124mf\u001b[39m\u001b[38;5;124m\"\u001b[39m\u001b[38;5;124mIPython won\u001b[39m\u001b[38;5;124m'\u001b[39m\u001b[38;5;124mt let you open fd=\u001b[39m\u001b[38;5;132;01m{\u001b[39;00mfile\u001b[38;5;132;01m}\u001b[39;00m\u001b[38;5;124m by default \u001b[39m\u001b[38;5;124m\"\u001b[39m\n\u001b[0;32m    306\u001b[0m         \u001b[38;5;124m\"\u001b[39m\u001b[38;5;124mas it is likely to crash IPython. If you know what you are doing, \u001b[39m\u001b[38;5;124m\"\u001b[39m\n\u001b[0;32m    307\u001b[0m         \u001b[38;5;124m\"\u001b[39m\u001b[38;5;124myou can use builtins\u001b[39m\u001b[38;5;124m'\u001b[39m\u001b[38;5;124m open.\u001b[39m\u001b[38;5;124m\"\u001b[39m\n\u001b[0;32m    308\u001b[0m     )\n\u001b[1;32m--> 310\u001b[0m \u001b[38;5;28;01mreturn\u001b[39;00m io_open(file, \u001b[38;5;241m*\u001b[39margs, \u001b[38;5;241m*\u001b[39m\u001b[38;5;241m*\u001b[39mkwargs)\n",
      "\u001b[1;31mFileNotFoundError\u001b[0m: [Errno 2] No such file or directory: './data/stock_list.txt'"
     ]
    }
   ],
   "source": [
    "with open('./data/stock_list.txt', 'r', encoding='UTF-8') as f:\n",
    "    stock_list = [line.rstrip('\\n') for line in f]"
   ]
  },
  {
   "cell_type": "code",
   "execution_count": 4,
   "id": "0aba597a-d74a-47de-8e13-637aaa5e4933",
   "metadata": {},
   "outputs": [],
   "source": [
    "TODAY = date.today()\n",
    "today_str = TODAY.strftime('%Y%m%d')\n",
    "# today_str = '20250117'\n",
    "\n",
    "YEAR = TODAY.year\n",
    "MONTH = TODAY.month\n",
    "DAY = TODAY.day"
   ]
  },
  {
   "cell_type": "code",
   "execution_count": 12,
   "id": "2847e2ad-d231-4f41-a172-6b534fe1e59e",
   "metadata": {},
   "outputs": [
    {
     "name": "stdout",
     "output_type": "stream",
     "text": [
      "========== 取得股票清單 ==========\n"
     ]
    }
   ],
   "source": [
    "df_stocks = get_stock_list(today_str)"
   ]
  },
  {
   "cell_type": "code",
   "execution_count": null,
   "id": "8124e13c-fa41-47b1-aaf2-a18d2d1c6596",
   "metadata": {},
   "outputs": [],
   "source": [
    "import pymysql\n",
    "import pandas as pd\n",
    "from sqlalchemy import create_engine\n",
    "\n",
    "host = \"34.105.5.165\"\n",
    "port = 3306\n",
    "username = \"barrywu\"\n",
    "password = \"Barrywoo576%&^\"\n",
    "database = 'tw_stock_agent'\n",
    "engine = create_engine(f'mysql+pymysql://{username}:{password}@{host}:{port}/{database}')"
   ]
  },
  {
   "cell_type": "markdown",
   "id": "e9affc3a-600a-4541-9d76-3873520bfe92",
   "metadata": {
    "jp-MarkdownHeadingCollapsed": true
   },
   "source": [
    "## 每日成交資訊"
   ]
  },
  {
   "cell_type": "code",
   "execution_count": 5,
   "id": "75bfabb4-14af-4f7e-bc03-dc508599f59c",
   "metadata": {},
   "outputs": [
    {
     "name": "stdout",
     "output_type": "stream",
     "text": [
      "========== 取得股票清單 ==========\n",
      "========== 成交資訊 ==========\n",
      "========== 三大法人買賣超 ==========\n"
     ]
    }
   ],
   "source": [
    "df_daily_exchange_info = get_daily_exchange_info(today_str)"
   ]
  },
  {
   "cell_type": "code",
   "execution_count": 7,
   "id": "55c0093a-c4e0-49e8-a1fa-28e049d83261",
   "metadata": {},
   "outputs": [
    {
     "data": {
      "text/html": [
       "<div>\n",
       "<style scoped>\n",
       "    .dataframe tbody tr th:only-of-type {\n",
       "        vertical-align: middle;\n",
       "    }\n",
       "\n",
       "    .dataframe tbody tr th {\n",
       "        vertical-align: top;\n",
       "    }\n",
       "\n",
       "    .dataframe thead th {\n",
       "        text-align: right;\n",
       "    }\n",
       "</style>\n",
       "<table border=\"1\" class=\"dataframe\">\n",
       "  <thead>\n",
       "    <tr style=\"text-align: right;\">\n",
       "      <th></th>\n",
       "      <th>stat_date</th>\n",
       "      <th>證券代號</th>\n",
       "      <th>證券名稱</th>\n",
       "      <th>類型</th>\n",
       "      <th>上市櫃</th>\n",
       "      <th>產業</th>\n",
       "      <th>成交股數</th>\n",
       "      <th>成交筆數</th>\n",
       "      <th>成交金額</th>\n",
       "      <th>開盤價</th>\n",
       "      <th>最高價</th>\n",
       "      <th>最低價</th>\n",
       "      <th>收盤價</th>\n",
       "      <th>漲跌價差</th>\n",
       "      <th>本益比</th>\n",
       "      <th>外陸資買賣超股數</th>\n",
       "      <th>投信買賣超股數</th>\n",
       "      <th>自營商買賣超股數</th>\n",
       "      <th>三大法人買賣超股數</th>\n",
       "    </tr>\n",
       "  </thead>\n",
       "  <tbody>\n",
       "    <tr>\n",
       "      <th>0</th>\n",
       "      <td>2025-01-17</td>\n",
       "      <td>1101</td>\n",
       "      <td>台泥</td>\n",
       "      <td>股票</td>\n",
       "      <td>上市</td>\n",
       "      <td>水泥工業</td>\n",
       "      <td>15983898.0</td>\n",
       "      <td>6070.0</td>\n",
       "      <td>503018876.0</td>\n",
       "      <td>31.1</td>\n",
       "      <td>31.85</td>\n",
       "      <td>31.05</td>\n",
       "      <td>31.7</td>\n",
       "      <td>0.75</td>\n",
       "      <td>26.64</td>\n",
       "      <td>1470754.0</td>\n",
       "      <td>312000.0</td>\n",
       "      <td>183923.0</td>\n",
       "      <td>1966677.0</td>\n",
       "    </tr>\n",
       "    <tr>\n",
       "      <th>1</th>\n",
       "      <td>2025-01-17</td>\n",
       "      <td>1102</td>\n",
       "      <td>亞泥</td>\n",
       "      <td>股票</td>\n",
       "      <td>上市</td>\n",
       "      <td>水泥工業</td>\n",
       "      <td>5042990.0</td>\n",
       "      <td>2258.0</td>\n",
       "      <td>208376439.0</td>\n",
       "      <td>40.9</td>\n",
       "      <td>41.60</td>\n",
       "      <td>40.90</td>\n",
       "      <td>41.4</td>\n",
       "      <td>0.50</td>\n",
       "      <td>14.08</td>\n",
       "      <td>-538776.0</td>\n",
       "      <td>39767.0</td>\n",
       "      <td>1513991.0</td>\n",
       "      <td>1014982.0</td>\n",
       "    </tr>\n",
       "  </tbody>\n",
       "</table>\n",
       "</div>"
      ],
      "text/plain": [
       "   stat_date  證券代號 證券名稱  類型 上市櫃    產業        成交股數    成交筆數         成交金額   開盤價  \\\n",
       "0 2025-01-17  1101   台泥  股票  上市  水泥工業  15983898.0  6070.0  503018876.0  31.1   \n",
       "1 2025-01-17  1102   亞泥  股票  上市  水泥工業   5042990.0  2258.0  208376439.0  40.9   \n",
       "\n",
       "     最高價    最低價   收盤價  漲跌價差    本益比   外陸資買賣超股數   投信買賣超股數   自營商買賣超股數  三大法人買賣超股數  \n",
       "0  31.85  31.05  31.7  0.75  26.64  1470754.0  312000.0   183923.0  1966677.0  \n",
       "1  41.60  40.90  41.4  0.50  14.08  -538776.0   39767.0  1513991.0  1014982.0  "
      ]
     },
     "execution_count": 7,
     "metadata": {},
     "output_type": "execute_result"
    }
   ],
   "source": [
    "df_daily_exchange_info.head(2)"
   ]
  },
  {
   "cell_type": "code",
   "execution_count": null,
   "id": "a79800c2-a094-41a0-8c47-76093c91fa87",
   "metadata": {},
   "outputs": [],
   "source": [
    "df_daily_exchange_info.to_sql('daily_exchange_info', con=engine, if_exists='append', index=False)"
   ]
  },
  {
   "cell_type": "markdown",
   "id": "2d3dd5e3-f834-4273-92de-bd635e032416",
   "metadata": {},
   "source": [
    "```\n",
    "CREATE TABLE daily_exchange_info (\n",
    "    stat_date DATE NOT NULL,\n",
    "    證券代號 VARCHAR(16) NOT NULL,\n",
    "    證券名稱 VARCHAR(16) NOT NULL,\n",
    "    類型 VARCHAR(4) NOT NULL,\n",
    "    上市櫃 VARCHAR(4) NOT NULL,\n",
    "    產業 VARCHAR(10) NOT NULL,\n",
    "    成交股數 FLOAT DEFAULT NULL,\n",
    "    成交筆數 FLOAT DEFAULT NULL,\n",
    "    成交金額 FLOAT DEFAULT NULL,\n",
    "    開盤價 FLOAT DEFAULT NULL,\n",
    "    最高價 FLOAT DEFAULT NULL,\n",
    "    最低價 FLOAT DEFAULT NULL,\n",
    "    收盤價 FLOAT DEFAULT NULL,\n",
    "    漲跌價差 FLOAT DEFAULT NULL,\n",
    "    本益比 FLOAT DEFAULT NULL,\n",
    "    外陸資買賣超股數 FLOAT DEFAULT NULL,\n",
    "    投信買賣超股數 FLOAT DEFAULT NULL,\n",
    "    自營商買賣超股數 FLOAT DEFAULT NULL,\n",
    "    三大法人買賣超股數 FLOAT DEFAULT NULL,\n",
    "    PRIMARY KEY ('stat_date','證券代號')\n",
    ")\n",
    "```"
   ]
  },
  {
   "cell_type": "markdown",
   "id": "c3923a15-93a3-46de-8890-0ac2e14e97cb",
   "metadata": {
    "jp-MarkdownHeadingCollapsed": true
   },
   "source": [
    "## 月營收"
   ]
  },
  {
   "cell_type": "code",
   "execution_count": 3,
   "id": "ee386278-d1c9-4025-9b10-bf7846319a5e",
   "metadata": {},
   "outputs": [
    {
     "name": "stdout",
     "output_type": "stream",
     "text": [
      "獲取2024年12月營收\n",
      "(1761, 7)\n"
     ]
    }
   ],
   "source": [
    "if MONTH == 1:  # 拿去年12月\n",
    "    fetch_monthly_revenue(year=YEAR-1, month=12)\n",
    "    df_monthly_rev = process_monthly_revenue(year=YEAR-1, month=12)\n",
    "else:\n",
    "    MONTH -= 1\n",
    "    fetch_monthly_revenue(year=YEAR, month=MONTH-1)\n",
    "    df_monthly_rev = process_monthly_revenue(year=YEAR, month=MONTH-1)"
   ]
  },
  {
   "cell_type": "code",
   "execution_count": 14,
   "id": "573caa97-f079-4e9e-b4f7-3270339ceed1",
   "metadata": {},
   "outputs": [
    {
     "data": {
      "text/html": [
       "<div>\n",
       "<style scoped>\n",
       "    .dataframe tbody tr th:only-of-type {\n",
       "        vertical-align: middle;\n",
       "    }\n",
       "\n",
       "    .dataframe tbody tr th {\n",
       "        vertical-align: top;\n",
       "    }\n",
       "\n",
       "    .dataframe thead th {\n",
       "        text-align: right;\n",
       "    }\n",
       "</style>\n",
       "<table border=\"1\" class=\"dataframe\">\n",
       "  <thead>\n",
       "    <tr style=\"text-align: right;\">\n",
       "      <th></th>\n",
       "      <th>stat_date</th>\n",
       "      <th>證券代號</th>\n",
       "      <th>證券名稱</th>\n",
       "      <th>年度</th>\n",
       "      <th>月份</th>\n",
       "      <th>營收</th>\n",
       "      <th>備註</th>\n",
       "    </tr>\n",
       "  </thead>\n",
       "  <tbody>\n",
       "    <tr>\n",
       "      <th>0</th>\n",
       "      <td>2024-12-01</td>\n",
       "      <td>1101</td>\n",
       "      <td>台泥</td>\n",
       "      <td>2024</td>\n",
       "      <td>12</td>\n",
       "      <td>16543379</td>\n",
       "      <td>2024/3/6起併入OYAK及Cimpor，以致營收較去年同期增加。</td>\n",
       "    </tr>\n",
       "    <tr>\n",
       "      <th>1</th>\n",
       "      <td>2024-12-01</td>\n",
       "      <td>1102</td>\n",
       "      <td>亞泥</td>\n",
       "      <td>2024</td>\n",
       "      <td>12</td>\n",
       "      <td>7085373</td>\n",
       "      <td>&lt;NA&gt;</td>\n",
       "    </tr>\n",
       "  </tbody>\n",
       "</table>\n",
       "</div>"
      ],
      "text/plain": [
       "   stat_date  證券代號 證券名稱    年度  月份        營收  \\\n",
       "0 2024-12-01  1101   台泥  2024  12  16543379   \n",
       "1 2024-12-01  1102   亞泥  2024  12   7085373   \n",
       "\n",
       "                                    備註  \n",
       "0  2024/3/6起併入OYAK及Cimpor，以致營收較去年同期增加。  \n",
       "1                                 <NA>  "
      ]
     },
     "execution_count": 14,
     "metadata": {},
     "output_type": "execute_result"
    }
   ],
   "source": [
    "df_monthly_rev.head(2)"
   ]
  },
  {
   "cell_type": "code",
   "execution_count": 18,
   "id": "7033197b-2f0d-4b33-a46a-6d8c500cbdd9",
   "metadata": {},
   "outputs": [
    {
     "data": {
      "text/plain": [
       "654825418"
      ]
     },
     "execution_count": 18,
     "metadata": {},
     "output_type": "execute_result"
    }
   ],
   "source": [
    "df_monthly_rev.to_sql('monthly_revenue', con=engine, if_exists='append', index=False)"
   ]
  },
  {
   "cell_type": "markdown",
   "id": "992edb43-95ee-4cfb-8448-225e363ccebe",
   "metadata": {},
   "source": [
    "```\n",
    "CREATE TABLE monthly_revenue (\n",
    "    stat_date DATE NOT NULL,\n",
    "    證券代號 VARCHAR(16) NOT NULL,\n",
    "    證券名稱 VARCHAR(16) NOT NULL,\n",
    "    年度 SMALLINT NOT NULL,\n",
    "    月份 TINYINT NOT NULL,\n",
    "    營收 INT DEFAULT NULL,\n",
    "    備註 VARCHAR DEFAULT NULL,\n",
    "    PRIMARY KEY ('stat_date','證券代號')\n",
    ")\n",
    "```"
   ]
  },
  {
   "cell_type": "markdown",
   "id": "78407dd0-ed75-47c4-ad6b-34da51a8720b",
   "metadata": {},
   "source": [
    "## 財務報表"
   ]
  },
  {
   "cell_type": "code",
   "execution_count": 7,
   "id": "12331503-c2d1-4d5d-a3e4-9ae2aca8bbc5",
   "metadata": {},
   "outputs": [
    {
     "name": "stdout",
     "output_type": "stream",
     "text": [
      "2024 3 上市 綜合損益表\n",
      "2024 3 上市 資產負債表\n",
      "2024 3 上市 現金流量表\n",
      "2024 3 上櫃 綜合損益表\n",
      "2024 3 上櫃 資產負債表\n",
      "2024 3 上櫃 現金流量表\n"
     ]
    }
   ],
   "source": [
    "report_type = '綜合損益表'\n",
    "for market_type in ['上市', '上櫃']:\n",
    "    for report_type in ['綜合損益表', '資產負債表', '現金流量表']:\n",
    "        if MONTH <= 4:  # 拿去年第四季\n",
    "            fetch_season = 4\n",
    "            fetch_year = YEAR - 1\n",
    "        else:\n",
    "            fetch_season = MONTH // 3 - 1  # 拿上季報表\n",
    "            fetch_year = YEAR\n",
    "        fetch_season = 3\n",
    "        fetch_year = YEAR - 1\n",
    "        scrape_seasonal_report(fetch_year, fetch_season, market_type, report_type)"
   ]
  },
  {
   "cell_type": "markdown",
   "id": "c6900d51-6cd3-4624-9c20-242bd84541c9",
   "metadata": {},
   "source": [
    "### 綜合損益表"
   ]
  },
  {
   "cell_type": "code",
   "execution_count": 11,
   "id": "521a4d83-d931-489f-b8ea-4f6a83ce6da2",
   "metadata": {},
   "outputs": [
    {
     "name": "stdout",
     "output_type": "stream",
     "text": [
      "2024_Q3_上市_銀行業_綜合損益表.csv\n"
     ]
    }
   ],
   "source": [
    "import os\n",
    "files = [f for f in os.listdir('./data/temp') if '綜合損益表' in f]\n",
    "for file in files:\n",
    "    if \"上市\" in file and \"銀行業\" in file:\n",
    "        print(file)"
   ]
  },
  {
   "cell_type": "code",
   "execution_count": 12,
   "id": "dc6d141a-730d-464c-b019-d75e2cd62bfe",
   "metadata": {},
   "outputs": [
    {
     "data": {
      "text/html": [
       "<div>\n",
       "<style scoped>\n",
       "    .dataframe tbody tr th:only-of-type {\n",
       "        vertical-align: middle;\n",
       "    }\n",
       "\n",
       "    .dataframe tbody tr th {\n",
       "        vertical-align: top;\n",
       "    }\n",
       "\n",
       "    .dataframe thead th {\n",
       "        text-align: right;\n",
       "    }\n",
       "</style>\n",
       "<table border=\"1\" class=\"dataframe\">\n",
       "  <thead>\n",
       "    <tr style=\"text-align: right;\">\n",
       "      <th></th>\n",
       "      <th>公司 代號</th>\n",
       "      <th>公司名稱</th>\n",
       "      <th>利息淨收益</th>\n",
       "      <th>利息以外淨損益</th>\n",
       "      <th>呆帳費用、承諾及保證責任準備提存</th>\n",
       "      <th>營業費用</th>\n",
       "      <th>繼續營業單位稅前淨利（淨損）</th>\n",
       "      <th>所得稅費用（利益）</th>\n",
       "      <th>繼續營業單位本期稅後淨利（淨損）</th>\n",
       "      <th>停業單位損益</th>\n",
       "      <th>...</th>\n",
       "      <th>其他綜合損益（稅後）</th>\n",
       "      <th>合併前非屬共同控制股權綜合損益淨額</th>\n",
       "      <th>本期綜合損益總額（稅後）</th>\n",
       "      <th>淨利（損）歸屬於母公司業主</th>\n",
       "      <th>淨利（損）歸屬於共同控制下前手權益</th>\n",
       "      <th>淨利（損）歸屬於非控制權益</th>\n",
       "      <th>綜合損益總額歸屬於母公司業主</th>\n",
       "      <th>綜合損益總額歸屬於共同控制下前手權益</th>\n",
       "      <th>綜合損益總額歸屬於非控制權益</th>\n",
       "      <th>基本每股盈餘（元）</th>\n",
       "    </tr>\n",
       "  </thead>\n",
       "  <tbody>\n",
       "    <tr>\n",
       "      <th>0</th>\n",
       "      <td>2801</td>\n",
       "      <td>彰銀</td>\n",
       "      <td>16822910</td>\n",
       "      <td>15248408</td>\n",
       "      <td>2947215</td>\n",
       "      <td>15126617</td>\n",
       "      <td>13997486</td>\n",
       "      <td>2748528</td>\n",
       "      <td>11248958</td>\n",
       "      <td>--</td>\n",
       "      <td>...</td>\n",
       "      <td>6542865</td>\n",
       "      <td>--</td>\n",
       "      <td>17791823</td>\n",
       "      <td>11248958</td>\n",
       "      <td>--</td>\n",
       "      <td>--</td>\n",
       "      <td>17791823</td>\n",
       "      <td>--</td>\n",
       "      <td>--</td>\n",
       "      <td>1.00</td>\n",
       "    </tr>\n",
       "    <tr>\n",
       "      <th>1</th>\n",
       "      <td>2809</td>\n",
       "      <td>京城銀</td>\n",
       "      <td>4450903</td>\n",
       "      <td>2748515</td>\n",
       "      <td>242145</td>\n",
       "      <td>1884539</td>\n",
       "      <td>5072734</td>\n",
       "      <td>1205678</td>\n",
       "      <td>3867056</td>\n",
       "      <td>--</td>\n",
       "      <td>...</td>\n",
       "      <td>3384570</td>\n",
       "      <td>--</td>\n",
       "      <td>7251626</td>\n",
       "      <td>3867056</td>\n",
       "      <td>--</td>\n",
       "      <td>--</td>\n",
       "      <td>7251626</td>\n",
       "      <td>--</td>\n",
       "      <td>--</td>\n",
       "      <td>3.48</td>\n",
       "    </tr>\n",
       "    <tr>\n",
       "      <th>2</th>\n",
       "      <td>2812</td>\n",
       "      <td>台中銀</td>\n",
       "      <td>8946148</td>\n",
       "      <td>5525412</td>\n",
       "      <td>862667</td>\n",
       "      <td>6094976</td>\n",
       "      <td>7513917</td>\n",
       "      <td>1166521</td>\n",
       "      <td>6347396</td>\n",
       "      <td>--</td>\n",
       "      <td>...</td>\n",
       "      <td>877926</td>\n",
       "      <td>--</td>\n",
       "      <td>7225322</td>\n",
       "      <td>6347396</td>\n",
       "      <td>--</td>\n",
       "      <td>--</td>\n",
       "      <td>7225322</td>\n",
       "      <td>--</td>\n",
       "      <td>--</td>\n",
       "      <td>1.15</td>\n",
       "    </tr>\n",
       "    <tr>\n",
       "      <th>3</th>\n",
       "      <td>2820</td>\n",
       "      <td>華票</td>\n",
       "      <td>243176</td>\n",
       "      <td>1501904</td>\n",
       "      <td>23042</td>\n",
       "      <td>435599</td>\n",
       "      <td>1286439</td>\n",
       "      <td>197389</td>\n",
       "      <td>1089050</td>\n",
       "      <td>--</td>\n",
       "      <td>...</td>\n",
       "      <td>351017</td>\n",
       "      <td>--</td>\n",
       "      <td>1440067</td>\n",
       "      <td>--</td>\n",
       "      <td>--</td>\n",
       "      <td>--</td>\n",
       "      <td>--</td>\n",
       "      <td>--</td>\n",
       "      <td>--</td>\n",
       "      <td>0.81</td>\n",
       "    </tr>\n",
       "    <tr>\n",
       "      <th>4</th>\n",
       "      <td>2834</td>\n",
       "      <td>臺企銀</td>\n",
       "      <td>14230580</td>\n",
       "      <td>12271208</td>\n",
       "      <td>3198550</td>\n",
       "      <td>12313677</td>\n",
       "      <td>10989561</td>\n",
       "      <td>2122703</td>\n",
       "      <td>8866858</td>\n",
       "      <td>--</td>\n",
       "      <td>...</td>\n",
       "      <td>3028271</td>\n",
       "      <td>--</td>\n",
       "      <td>11895129</td>\n",
       "      <td>8866858</td>\n",
       "      <td>--</td>\n",
       "      <td>--</td>\n",
       "      <td>11895129</td>\n",
       "      <td>--</td>\n",
       "      <td>--</td>\n",
       "      <td>0.97</td>\n",
       "    </tr>\n",
       "    <tr>\n",
       "      <th>5</th>\n",
       "      <td>2836</td>\n",
       "      <td>高雄銀</td>\n",
       "      <td>2119297</td>\n",
       "      <td>1168205</td>\n",
       "      <td>104870</td>\n",
       "      <td>2216059</td>\n",
       "      <td>966573</td>\n",
       "      <td>255612</td>\n",
       "      <td>710961</td>\n",
       "      <td>--</td>\n",
       "      <td>...</td>\n",
       "      <td>789497</td>\n",
       "      <td>--</td>\n",
       "      <td>1500458</td>\n",
       "      <td>--</td>\n",
       "      <td>--</td>\n",
       "      <td>--</td>\n",
       "      <td>--</td>\n",
       "      <td>--</td>\n",
       "      <td>--</td>\n",
       "      <td>0.41</td>\n",
       "    </tr>\n",
       "    <tr>\n",
       "      <th>6</th>\n",
       "      <td>2838</td>\n",
       "      <td>聯邦銀</td>\n",
       "      <td>6061256</td>\n",
       "      <td>9320857</td>\n",
       "      <td>722239</td>\n",
       "      <td>9658563</td>\n",
       "      <td>5001311</td>\n",
       "      <td>689811</td>\n",
       "      <td>4311500</td>\n",
       "      <td>--</td>\n",
       "      <td>...</td>\n",
       "      <td>3618563</td>\n",
       "      <td>--</td>\n",
       "      <td>7930063</td>\n",
       "      <td>4301395</td>\n",
       "      <td>--</td>\n",
       "      <td>10105</td>\n",
       "      <td>7919955</td>\n",
       "      <td>--</td>\n",
       "      <td>10108</td>\n",
       "      <td>0.94</td>\n",
       "    </tr>\n",
       "    <tr>\n",
       "      <th>7</th>\n",
       "      <td>2845</td>\n",
       "      <td>遠東銀</td>\n",
       "      <td>4475661</td>\n",
       "      <td>5437800</td>\n",
       "      <td>45615</td>\n",
       "      <td>5883050</td>\n",
       "      <td>3984796</td>\n",
       "      <td>453696</td>\n",
       "      <td>3531100</td>\n",
       "      <td>--</td>\n",
       "      <td>...</td>\n",
       "      <td>180229</td>\n",
       "      <td>--</td>\n",
       "      <td>3711329</td>\n",
       "      <td>3531100</td>\n",
       "      <td>--</td>\n",
       "      <td>--</td>\n",
       "      <td>3711329</td>\n",
       "      <td>--</td>\n",
       "      <td>--</td>\n",
       "      <td>0.83</td>\n",
       "    </tr>\n",
       "    <tr>\n",
       "      <th>8</th>\n",
       "      <td>2849</td>\n",
       "      <td>安泰銀</td>\n",
       "      <td>2356328</td>\n",
       "      <td>1856135</td>\n",
       "      <td>458352</td>\n",
       "      <td>2549909</td>\n",
       "      <td>1204202</td>\n",
       "      <td>94708</td>\n",
       "      <td>1109494</td>\n",
       "      <td>0</td>\n",
       "      <td>...</td>\n",
       "      <td>478185</td>\n",
       "      <td>--</td>\n",
       "      <td>1587679</td>\n",
       "      <td>--</td>\n",
       "      <td>--</td>\n",
       "      <td>--</td>\n",
       "      <td>--</td>\n",
       "      <td>--</td>\n",
       "      <td>--</td>\n",
       "      <td>0.57</td>\n",
       "    </tr>\n",
       "    <tr>\n",
       "      <th>9</th>\n",
       "      <td>2897</td>\n",
       "      <td>王道銀行</td>\n",
       "      <td>1317868</td>\n",
       "      <td>6880746</td>\n",
       "      <td>521723</td>\n",
       "      <td>3849545</td>\n",
       "      <td>3827346</td>\n",
       "      <td>749636</td>\n",
       "      <td>3077710</td>\n",
       "      <td>--</td>\n",
       "      <td>...</td>\n",
       "      <td>831079</td>\n",
       "      <td>--</td>\n",
       "      <td>3908789</td>\n",
       "      <td>2274804</td>\n",
       "      <td>--</td>\n",
       "      <td>802906</td>\n",
       "      <td>2831815</td>\n",
       "      <td>--</td>\n",
       "      <td>1076974</td>\n",
       "      <td>0.79</td>\n",
       "    </tr>\n",
       "    <tr>\n",
       "      <th>10</th>\n",
       "      <td>5876</td>\n",
       "      <td>上海商銀</td>\n",
       "      <td>28744177</td>\n",
       "      <td>10318405</td>\n",
       "      <td>10195520</td>\n",
       "      <td>14796075</td>\n",
       "      <td>14070987</td>\n",
       "      <td>2687507</td>\n",
       "      <td>11383480</td>\n",
       "      <td>--</td>\n",
       "      <td>...</td>\n",
       "      <td>13297484</td>\n",
       "      <td>--</td>\n",
       "      <td>24680964</td>\n",
       "      <td>10551333</td>\n",
       "      <td>--</td>\n",
       "      <td>832147</td>\n",
       "      <td>18753695</td>\n",
       "      <td>--</td>\n",
       "      <td>5927269</td>\n",
       "      <td>2.18</td>\n",
       "    </tr>\n",
       "  </tbody>\n",
       "</table>\n",
       "<p>11 rows × 22 columns</p>\n",
       "</div>"
      ],
      "text/plain": [
       "    公司 代號  公司名稱     利息淨收益   利息以外淨損益  呆帳費用、承諾及保證責任準備提存      營業費用  \\\n",
       "0    2801    彰銀  16822910  15248408           2947215  15126617   \n",
       "1    2809   京城銀   4450903   2748515            242145   1884539   \n",
       "2    2812   台中銀   8946148   5525412            862667   6094976   \n",
       "3    2820    華票    243176   1501904             23042    435599   \n",
       "4    2834   臺企銀  14230580  12271208           3198550  12313677   \n",
       "5    2836   高雄銀   2119297   1168205            104870   2216059   \n",
       "6    2838   聯邦銀   6061256   9320857            722239   9658563   \n",
       "7    2845   遠東銀   4475661   5437800             45615   5883050   \n",
       "8    2849   安泰銀   2356328   1856135            458352   2549909   \n",
       "9    2897  王道銀行   1317868   6880746            521723   3849545   \n",
       "10   5876  上海商銀  28744177  10318405          10195520  14796075   \n",
       "\n",
       "    繼續營業單位稅前淨利（淨損）  所得稅費用（利益）  繼續營業單位本期稅後淨利（淨損） 停業單位損益  ... 其他綜合損益（稅後）  \\\n",
       "0         13997486    2748528          11248958     --  ...    6542865   \n",
       "1          5072734    1205678           3867056     --  ...    3384570   \n",
       "2          7513917    1166521           6347396     --  ...     877926   \n",
       "3          1286439     197389           1089050     --  ...     351017   \n",
       "4         10989561    2122703           8866858     --  ...    3028271   \n",
       "5           966573     255612            710961     --  ...     789497   \n",
       "6          5001311     689811           4311500     --  ...    3618563   \n",
       "7          3984796     453696           3531100     --  ...     180229   \n",
       "8          1204202      94708           1109494      0  ...     478185   \n",
       "9          3827346     749636           3077710     --  ...     831079   \n",
       "10        14070987    2687507          11383480     --  ...   13297484   \n",
       "\n",
       "    合併前非屬共同控制股權綜合損益淨額  本期綜合損益總額（稅後） 淨利（損）歸屬於母公司業主  淨利（損）歸屬於共同控制下前手權益  \\\n",
       "0                  --      17791823      11248958                 --   \n",
       "1                  --       7251626       3867056                 --   \n",
       "2                  --       7225322       6347396                 --   \n",
       "3                  --       1440067            --                 --   \n",
       "4                  --      11895129       8866858                 --   \n",
       "5                  --       1500458            --                 --   \n",
       "6                  --       7930063       4301395                 --   \n",
       "7                  --       3711329       3531100                 --   \n",
       "8                  --       1587679            --                 --   \n",
       "9                  --       3908789       2274804                 --   \n",
       "10                 --      24680964      10551333                 --   \n",
       "\n",
       "   淨利（損）歸屬於非控制權益 綜合損益總額歸屬於母公司業主 綜合損益總額歸屬於共同控制下前手權益 綜合損益總額歸屬於非控制權益 基本每股盈餘（元）  \n",
       "0             --       17791823                 --             --      1.00  \n",
       "1             --        7251626                 --             --      3.48  \n",
       "2             --        7225322                 --             --      1.15  \n",
       "3             --             --                 --             --      0.81  \n",
       "4             --       11895129                 --             --      0.97  \n",
       "5             --             --                 --             --      0.41  \n",
       "6          10105        7919955                 --          10108      0.94  \n",
       "7             --        3711329                 --             --      0.83  \n",
       "8             --             --                 --             --      0.57  \n",
       "9         802906        2831815                 --        1076974      0.79  \n",
       "10        832147       18753695                 --        5927269      2.18  \n",
       "\n",
       "[11 rows x 22 columns]"
      ]
     },
     "execution_count": 12,
     "metadata": {},
     "output_type": "execute_result"
    }
   ],
   "source": [
    "pd.read_csv('./data/temp/2024_Q3_上市_銀行業_綜合損益表.csv')"
   ]
  },
  {
   "cell_type": "code",
   "execution_count": 8,
   "id": "248187b1-5e86-4cbc-a0bb-784c12b75f89",
   "metadata": {},
   "outputs": [
    {
     "name": "stdout",
     "output_type": "stream",
     "text": [
      "上市 一般業\n",
      "平均（營業收入－營業成本－營業毛利： -59.42\n",
      "上市 保險業\n",
      "上市 異業\n",
      "上市 證券業\n",
      "上市 金控業\n",
      "上市 銀行業\n",
      "上櫃 一般業\n",
      "平均（營業收入－營業成本－營業毛利： 95.66\n",
      "上櫃 金融保險業\n"
     ]
    }
   ],
   "source": [
    "df_comprehensive_income = process_comprehensive_income(fetch_year, fetch_season)"
   ]
  },
  {
   "cell_type": "code",
   "execution_count": 6,
   "id": "f7d04fc6-45ea-4904-b5bb-b6f6d2d489fb",
   "metadata": {},
   "outputs": [
    {
     "data": {
      "text/html": [
       "<div>\n",
       "<style scoped>\n",
       "    .dataframe tbody tr th:only-of-type {\n",
       "        vertical-align: middle;\n",
       "    }\n",
       "\n",
       "    .dataframe tbody tr th {\n",
       "        vertical-align: top;\n",
       "    }\n",
       "\n",
       "    .dataframe thead th {\n",
       "        text-align: right;\n",
       "    }\n",
       "</style>\n",
       "<table border=\"1\" class=\"dataframe\">\n",
       "  <thead>\n",
       "    <tr style=\"text-align: right;\">\n",
       "      <th></th>\n",
       "      <th>stat_date</th>\n",
       "      <th>證券代號</th>\n",
       "      <th>證券名稱</th>\n",
       "      <th>年度</th>\n",
       "      <th>季度</th>\n",
       "      <th>營業收入</th>\n",
       "      <th>營業成本</th>\n",
       "      <th>營業毛利</th>\n",
       "      <th>營業費用</th>\n",
       "      <th>營業利益</th>\n",
       "      <th>業外收支</th>\n",
       "      <th>稅前淨利</th>\n",
       "      <th>所得稅</th>\n",
       "      <th>稅後淨利</th>\n",
       "      <th>EPS</th>\n",
       "    </tr>\n",
       "  </thead>\n",
       "  <tbody>\n",
       "    <tr>\n",
       "      <th>0</th>\n",
       "      <td>2024-07-01</td>\n",
       "      <td>2816</td>\n",
       "      <td>旺旺保</td>\n",
       "      <td>2024</td>\n",
       "      <td>3</td>\n",
       "      <td>8116878</td>\n",
       "      <td>5399755</td>\n",
       "      <td>2717123</td>\n",
       "      <td>1729784.0</td>\n",
       "      <td>987339.0</td>\n",
       "      <td>19324.0</td>\n",
       "      <td>1006663</td>\n",
       "      <td>160470</td>\n",
       "      <td>846193</td>\n",
       "      <td>3.78</td>\n",
       "    </tr>\n",
       "    <tr>\n",
       "      <th>1</th>\n",
       "      <td>2024-07-01</td>\n",
       "      <td>2832</td>\n",
       "      <td>台產</td>\n",
       "      <td>2024</td>\n",
       "      <td>3</td>\n",
       "      <td>5607813</td>\n",
       "      <td>3313595</td>\n",
       "      <td>2294218</td>\n",
       "      <td>1138725.0</td>\n",
       "      <td>1155493.0</td>\n",
       "      <td>-3114.0</td>\n",
       "      <td>1152379</td>\n",
       "      <td>164566</td>\n",
       "      <td>987813</td>\n",
       "      <td>2.73</td>\n",
       "    </tr>\n",
       "  </tbody>\n",
       "</table>\n",
       "</div>"
      ],
      "text/plain": [
       "   stat_date  證券代號 證券名稱    年度 季度     營業收入     營業成本     營業毛利       營業費用  \\\n",
       "0 2024-07-01  2816  旺旺保  2024  3  8116878  5399755  2717123  1729784.0   \n",
       "1 2024-07-01  2832   台產  2024  3  5607813  3313595  2294218  1138725.0   \n",
       "\n",
       "        營業利益     業外收支     稅前淨利     所得稅    稅後淨利   EPS  \n",
       "0   987339.0  19324.0  1006663  160470  846193  3.78  \n",
       "1  1155493.0  -3114.0  1152379  164566  987813  2.73  "
      ]
     },
     "execution_count": 6,
     "metadata": {},
     "output_type": "execute_result"
    }
   ],
   "source": [
    "df_comprehensive_income.head(2)"
   ]
  },
  {
   "cell_type": "markdown",
   "id": "0266158e-a3a8-4021-a5eb-a3abe41e3302",
   "metadata": {},
   "source": [
    "```\n",
    "CREATE TABLE comprehensive_income (\n",
    "    stat_date DATE NOT NULL,\n",
    "    證券代號 VARCHAR(16) NOT NULL,\n",
    "    證券名稱 VARCHAR(16) NOT NULL,\n",
    "    年度 SMALLINT NOT NULL,\n",
    "    季度 TINYINT NOT NULL,\n",
    "    營業收入 FLOAT DEFAULT NULL,\n",
    "    營業成本 FLOAT DEFAULT NULL,\n",
    "    營業毛利 FLOAT DEFAULT NULL,\n",
    "    營業費用 FLOAT DEFAULT NULL,\n",
    "    營業利益 FLOAT DEFAULT NULL,\n",
    "    業外收支 FLOAT DEFAULT NULL,\n",
    "    稅前淨利 FLOAT DEFAULT NULL,\n",
    "    所得稅 FLOAT DEFAULT NULL,\n",
    "    稅後淨利 FLOAT DEFAULT NULL,\n",
    "    EPS FLOAT DEFAULT NULL,\n",
    "    PRIMARY KEY ('stat_date','證券代號')\n",
    ")\n",
    "```"
   ]
  },
  {
   "cell_type": "markdown",
   "id": "b69d040f-d855-4c0a-bee9-2b2c15ea177f",
   "metadata": {},
   "source": [
    "### 現金流量表"
   ]
  },
  {
   "cell_type": "code",
   "execution_count": 8,
   "id": "3e06f3ab-228e-408f-a013-2bf7d1c6efa1",
   "metadata": {},
   "outputs": [],
   "source": [
    "df_cash_flow = process_cash_flow(fetch_year, fetch_season)"
   ]
  },
  {
   "cell_type": "code",
   "execution_count": 20,
   "id": "1012739a-f2f9-40d8-ac48-652854d88d74",
   "metadata": {},
   "outputs": [
    {
     "data": {
      "text/html": [
       "<div>\n",
       "<style scoped>\n",
       "    .dataframe tbody tr th:only-of-type {\n",
       "        vertical-align: middle;\n",
       "    }\n",
       "\n",
       "    .dataframe tbody tr th {\n",
       "        vertical-align: top;\n",
       "    }\n",
       "\n",
       "    .dataframe thead th {\n",
       "        text-align: right;\n",
       "    }\n",
       "</style>\n",
       "<table border=\"1\" class=\"dataframe\">\n",
       "  <thead>\n",
       "    <tr style=\"text-align: right;\">\n",
       "      <th></th>\n",
       "      <th>stat_date</th>\n",
       "      <th>證券代號</th>\n",
       "      <th>證券名稱</th>\n",
       "      <th>年度</th>\n",
       "      <th>季度</th>\n",
       "      <th>營業現金流</th>\n",
       "      <th>投資現金流</th>\n",
       "      <th>籌資現金流</th>\n",
       "      <th>匯率變動之影響</th>\n",
       "      <th>淨現金流</th>\n",
       "    </tr>\n",
       "  </thead>\n",
       "  <tbody>\n",
       "    <tr>\n",
       "      <th>256</th>\n",
       "      <td>2024-07-01</td>\n",
       "      <td>2258</td>\n",
       "      <td>鴻華先進-創</td>\n",
       "      <td>2024</td>\n",
       "      <td>3</td>\n",
       "      <td>-595761.0</td>\n",
       "      <td>-201810.0</td>\n",
       "      <td>-57522.0</td>\n",
       "      <td>1163.0</td>\n",
       "      <td>-853930.0</td>\n",
       "    </tr>\n",
       "    <tr>\n",
       "      <th>261</th>\n",
       "      <td>2024-07-01</td>\n",
       "      <td>2308</td>\n",
       "      <td>台達電</td>\n",
       "      <td>2024</td>\n",
       "      <td>3</td>\n",
       "      <td>51190776.0</td>\n",
       "      <td>-27037744.0</td>\n",
       "      <td>3529093.0</td>\n",
       "      <td>5306774.0</td>\n",
       "      <td>32988899.0</td>\n",
       "    </tr>\n",
       "  </tbody>\n",
       "</table>\n",
       "</div>"
      ],
      "text/plain": [
       "     stat_date  證券代號    證券名稱    年度 季度       營業現金流       投資現金流      籌資現金流  \\\n",
       "256 2024-07-01  2258  鴻華先進-創  2024  3   -595761.0   -201810.0   -57522.0   \n",
       "261 2024-07-01  2308     台達電  2024  3  51190776.0 -27037744.0  3529093.0   \n",
       "\n",
       "       匯率變動之影響        淨現金流  \n",
       "256     1163.0   -853930.0  \n",
       "261  5306774.0  32988899.0  "
      ]
     },
     "execution_count": 20,
     "metadata": {},
     "output_type": "execute_result"
    }
   ],
   "source": [
    "df_cash_flow.sample(2)"
   ]
  },
  {
   "cell_type": "markdown",
   "id": "33c3b320-6ec5-436c-9013-7588a14dfdbd",
   "metadata": {},
   "source": [
    "```\n",
    "CREATE TABLE cash_flow (\n",
    "    stat_date DATE NOT NULL,\n",
    "    證券代號 VARCHAR(16) NOT NULL,\n",
    "    證券名稱 VARCHAR(16) NOT NULL,\n",
    "    年度 SMALLINT NOT NULL,\n",
    "    季度 TINYINT NOT NULL,\n",
    "    營業現金流 FLOAT DEFAULT NULL,\n",
    "    投資現金流 FLOAT DEFAULT NULL,\n",
    "    籌資現金流 FLOAT DEFAULT NULL,\n",
    "    匯率變動之影響 FLOAT DEFAULT NULL,\n",
    "    淨現金流 FLOAT DEFAULT NULL,\n",
    "    PRIMARY KEY ('stat_date','證券代號')\n",
    ")\n",
    "```"
   ]
  },
  {
   "cell_type": "markdown",
   "id": "8a264d80-ad5d-4945-b6fa-ad788b5da24e",
   "metadata": {},
   "source": [
    "### 資產負債表"
   ]
  },
  {
   "cell_type": "code",
   "execution_count": 22,
   "id": "e67f9bab-f51d-448f-adce-893bae6a2734",
   "metadata": {},
   "outputs": [
    {
     "name": "stdout",
     "output_type": "stream",
     "text": [
      "上市 異業\n",
      "上市 證券業\n",
      "上櫃 一般業\n",
      "上市 保險業\n",
      "上市 銀行業\n",
      "上市 一般業\n",
      "上市 金控業\n",
      "上櫃 金融保險業\n"
     ]
    }
   ],
   "source": [
    "df_balance_sheet = process_balance_sheet(fetch_year, fetch_season)"
   ]
  },
  {
   "cell_type": "code",
   "execution_count": 28,
   "id": "fda9b59a-e31b-4613-a314-b7d150787835",
   "metadata": {},
   "outputs": [
    {
     "data": {
      "text/html": [
       "<div>\n",
       "<style scoped>\n",
       "    .dataframe tbody tr th:only-of-type {\n",
       "        vertical-align: middle;\n",
       "    }\n",
       "\n",
       "    .dataframe tbody tr th {\n",
       "        vertical-align: top;\n",
       "    }\n",
       "\n",
       "    .dataframe thead th {\n",
       "        text-align: right;\n",
       "    }\n",
       "</style>\n",
       "<table border=\"1\" class=\"dataframe\">\n",
       "  <thead>\n",
       "    <tr style=\"text-align: right;\">\n",
       "      <th></th>\n",
       "      <th>stat_date</th>\n",
       "      <th>證券代號</th>\n",
       "      <th>證券名稱</th>\n",
       "      <th>年度</th>\n",
       "      <th>季度</th>\n",
       "      <th>流動資產</th>\n",
       "      <th>非流動資產</th>\n",
       "      <th>資產總計</th>\n",
       "      <th>流動負債</th>\n",
       "      <th>非流動負債</th>\n",
       "      <th>負債總計</th>\n",
       "      <th>股本</th>\n",
       "      <th>資本公積</th>\n",
       "      <th>保留盈餘</th>\n",
       "      <th>權益總計</th>\n",
       "      <th>每股參考淨值</th>\n",
       "    </tr>\n",
       "  </thead>\n",
       "  <tbody>\n",
       "    <tr>\n",
       "      <th>0</th>\n",
       "      <td>2024-07-01</td>\n",
       "      <td>1409</td>\n",
       "      <td>新纖</td>\n",
       "      <td>2024</td>\n",
       "      <td>3</td>\n",
       "      <td>145905758.0</td>\n",
       "      <td>69810599.0</td>\n",
       "      <td>215716357</td>\n",
       "      <td>136115383.0</td>\n",
       "      <td>30236322</td>\n",
       "      <td>166351705</td>\n",
       "      <td>16184093</td>\n",
       "      <td>2046829</td>\n",
       "      <td>14465270</td>\n",
       "      <td>49364652</td>\n",
       "      <td>23.71</td>\n",
       "    </tr>\n",
       "    <tr>\n",
       "      <th>1</th>\n",
       "      <td>2024-07-01</td>\n",
       "      <td>1718</td>\n",
       "      <td>中纖</td>\n",
       "      <td>2024</td>\n",
       "      <td>3</td>\n",
       "      <td>720407583.0</td>\n",
       "      <td>240218323.0</td>\n",
       "      <td>960625906</td>\n",
       "      <td>848254480.0</td>\n",
       "      <td>27982869</td>\n",
       "      <td>876237349</td>\n",
       "      <td>16859057</td>\n",
       "      <td>1712237</td>\n",
       "      <td>2881225</td>\n",
       "      <td>84388557</td>\n",
       "      <td>16.33</td>\n",
       "    </tr>\n",
       "  </tbody>\n",
       "</table>\n",
       "</div>"
      ],
      "text/plain": [
       "   stat_date  證券代號 證券名稱    年度 季度         流動資產        非流動資產       資產總計  \\\n",
       "0 2024-07-01  1409   新纖  2024  3  145905758.0   69810599.0  215716357   \n",
       "1 2024-07-01  1718   中纖  2024  3  720407583.0  240218323.0  960625906   \n",
       "\n",
       "          流動負債     非流動負債       負債總計        股本     資本公積      保留盈餘      權益總計  \\\n",
       "0  136115383.0  30236322  166351705  16184093  2046829  14465270  49364652   \n",
       "1  848254480.0  27982869  876237349  16859057  1712237   2881225  84388557   \n",
       "\n",
       "   每股參考淨值  \n",
       "0   23.71  \n",
       "1   16.33  "
      ]
     },
     "execution_count": 28,
     "metadata": {},
     "output_type": "execute_result"
    }
   ],
   "source": [
    "df_balance_sheet.head(2)"
   ]
  },
  {
   "cell_type": "markdown",
   "id": "65084496-dd92-407a-97fc-a0abe9e7ae4b",
   "metadata": {},
   "source": [
    "```\n",
    "CREATE TABLE balance_sheet (\n",
    "    stat_date DATE NOT NULL,\n",
    "    證券代號 VARCHAR(16) NOT NULL,\n",
    "    證券名稱 VARCHAR(16) NOT NULL,\n",
    "    年度 SMALLINT NOT NULL,\n",
    "    季度 TINYINT NOT NULL,\n",
    "    流動資產 FLOAT DEFAULT NULL,\n",
    "    非流動資產 FLOAT DEFAULT NULL,\n",
    "    資產總計 FLOAT DEFAULT NULL,\n",
    "    流動負債 FLOAT DEFAULT NULL,\n",
    "    非流動負債 FLOAT DEFAULT NULL,\n",
    "    負債總計 FLOAT DEFAULT NULL\n",
    "    股本 FLOAT DEFAULT NULL,\n",
    "    資本公積 FLOAT DEFAULT NULL,\n",
    "    保留盈餘 FLOAT DEFAULT NULL,\n",
    "    權益總計 FLOAT DEFAULT NULL,\n",
    "    每股參考淨值 FLOAT DEFAULT NULL,\n",
    "    PRIMARY KEY ('stat_date','證券代號')\n",
    ")\n",
    "```"
   ]
  },
  {
   "cell_type": "markdown",
   "id": "2c531f5e-6840-4190-9390-19b44edb4f66",
   "metadata": {},
   "source": [
    "## 新聞爬蟲"
   ]
  },
  {
   "cell_type": "markdown",
   "id": "5fad49ed-e3c6-4e5a-80ba-8aff63bbba1b",
   "metadata": {},
   "source": [
    "```\n",
    "CREATE TABLE daily_news_crawl (\n",
    "    id INT AUTO_INCREMENT PRIMARY KEY,\n",
    "    stat_date DATE NOT NULL,\n",
    "    標題 VARCHAR DEFAULT NULL,\n",
    "    時間 DATETIME DEFAULT NULL,\n",
    "    關鍵字 VARCHAR DEFAULT NULL,\n",
    "    內容 VARCHAR DEFAULT NULL,\n",
    ")\n",
    "```"
   ]
  },
  {
   "cell_type": "markdown",
   "id": "d4c46521-9597-4586-92b2-473ff9b5ed1c",
   "metadata": {},
   "source": [
    "### Anue"
   ]
  },
  {
   "cell_type": "code",
   "execution_count": 5,
   "id": "d737ca6d-f510-4da9-90d2-1db6b452e44f",
   "metadata": {},
   "outputs": [],
   "source": [
    "YESTERDAY = TODAY - timedelta(days=1)\n",
    "yesterday_str = YESTERDAY.strftime('%Y-%m-%d')"
   ]
  },
  {
   "cell_type": "code",
   "execution_count": 6,
   "id": "94d634a2-8f60-42ef-ab78-0b27086b4f70",
   "metadata": {},
   "outputs": [
    {
     "data": {
      "text/html": [
       "<div>\n",
       "<style scoped>\n",
       "    .dataframe tbody tr th:only-of-type {\n",
       "        vertical-align: middle;\n",
       "    }\n",
       "\n",
       "    .dataframe tbody tr th {\n",
       "        vertical-align: top;\n",
       "    }\n",
       "\n",
       "    .dataframe thead th {\n",
       "        text-align: right;\n",
       "    }\n",
       "</style>\n",
       "<table border=\"1\" class=\"dataframe\">\n",
       "  <thead>\n",
       "    <tr style=\"text-align: right;\">\n",
       "      <th></th>\n",
       "      <th>stat_date</th>\n",
       "      <th>標題</th>\n",
       "      <th>時間</th>\n",
       "      <th>關鍵字</th>\n",
       "      <th>內容</th>\n",
       "    </tr>\n",
       "  </thead>\n",
       "  <tbody>\n",
       "    <tr>\n",
       "      <th>0</th>\n",
       "      <td>2025-01-28</td>\n",
       "      <td>〈蛇年產業景氣前瞻〉AI伺服器帶動被動元件需求激增 相關業者營運看旺</td>\n",
       "      <td>2025-01-28 03:40:03</td>\n",
       "      <td>AI伺服器,AI PC,被動元件</td>\n",
       "      <td>AI 伺服器推升被動元件規格、用量以及單價大幅提升，包括國巨、華新科及旗下佳邦，還有三集瑞 ...</td>\n",
       "    </tr>\n",
       "    <tr>\n",
       "      <th>1</th>\n",
       "      <td>2025-01-28</td>\n",
       "      <td>藥華藥衛冕生技市值王 預計Ropeg今年陸續取得ET藥證</td>\n",
       "      <td>2025-01-28 02:40:06</td>\n",
       "      <td>生技,藥華藥,Ropeg,ET,康霈*,保瑞,美時,順藥</td>\n",
       "      <td>藥華藥 (6446-TW) 龍年衛冕生技族群市值王，以龍年封關日收盤價 687 元計算，市值...</td>\n",
       "    </tr>\n",
       "  </tbody>\n",
       "</table>\n",
       "</div>"
      ],
      "text/plain": [
       "   stat_date                                  標題                  時間  \\\n",
       "0 2025-01-28  〈蛇年產業景氣前瞻〉AI伺服器帶動被動元件需求激增 相關業者營運看旺 2025-01-28 03:40:03   \n",
       "1 2025-01-28        藥華藥衛冕生技市值王 預計Ropeg今年陸續取得ET藥證 2025-01-28 02:40:06   \n",
       "\n",
       "                            關鍵字  \\\n",
       "0              AI伺服器,AI PC,被動元件   \n",
       "1  生技,藥華藥,Ropeg,ET,康霈*,保瑞,美時,順藥   \n",
       "\n",
       "                                                  內容  \n",
       "0  AI 伺服器推升被動元件規格、用量以及單價大幅提升，包括國巨、華新科及旗下佳邦，還有三集瑞 ...  \n",
       "1  藥華藥 (6446-TW) 龍年衛冕生技族群市值王，以龍年封關日收盤價 687 元計算，市值...  "
      ]
     },
     "execution_count": 6,
     "metadata": {},
     "output_type": "execute_result"
    }
   ],
   "source": [
    "df_anue_news = get_anue_news(yesterday_str)\n",
    "df_anue_news.head(2)"
   ]
  },
  {
   "cell_type": "code",
   "execution_count": 15,
   "id": "a0823c16-c9cb-4dd6-9cb3-75fb68baaa67",
   "metadata": {},
   "outputs": [],
   "source": [
    "# df_anue_news.to_sql('anue_daily_news', con=engine, if_exists='append', index=False)"
   ]
  },
  {
   "cell_type": "markdown",
   "id": "b76e9490-5561-44d3-a2cc-f370b41a1249",
   "metadata": {},
   "source": [
    "### Yahoo"
   ]
  },
  {
   "cell_type": "code",
   "execution_count": 46,
   "id": "1667b4e6-f83a-4073-9fd2-99a089bf8631",
   "metadata": {},
   "outputs": [
    {
     "name": "stdout",
     "output_type": "stream",
     "text": [
      "========== 取得股票清單 ==========\n"
     ]
    }
   ],
   "source": [
    "df_stocks = get_stock_list(today_str)\n",
    "stock_list = df_stocks.loc[(df_stocks['類型'] == '股票') & ~(df_stocks['產業'].isin(EXCLUDE_FIELDS)), '證券代號'].tolist()"
   ]
  },
  {
   "cell_type": "code",
   "execution_count": 36,
   "id": "ebadcd05-460c-4069-9416-5b66da01305d",
   "metadata": {},
   "outputs": [],
   "source": [
    "EXCLUDE_FIELDS = [\n",
    "    '水泥工業', '食品工業', '塑膠工業', '其他業', '紡織纖維', '運動休閒', '玻璃陶瓷',\n",
    "    '居家生活', '橡膠工業', '電子通路業', '資訊服務業', '貿易百貨業', '數位雲端'\n",
    "]"
   ]
  },
  {
   "cell_type": "code",
   "execution_count": 266,
   "id": "6c886b58-7c43-46ae-b575-12d03b707ddb",
   "metadata": {},
   "outputs": [
    {
     "name": "stderr",
     "output_type": "stream",
     "text": [
      "100%|██████████| 3/3 [00:34<00:00, 11.45s/it]\n"
     ]
    }
   ],
   "source": [
    "df_yahoo_news = []\n",
    "for stock in tqdm(stock_list[:2]+['2330']):\n",
    "    temp = get_yahoo_news(stock, yesterday_str)\n",
    "    if isinstance(temp, pd.DataFrame):\n",
    "        df_yahoo_news.append(temp)"
   ]
  },
  {
   "cell_type": "code",
   "execution_count": 270,
   "id": "4008e7ed-4cb2-49fa-90e8-8723712bfe98",
   "metadata": {},
   "outputs": [
    {
     "data": {
      "text/html": [
       "<div>\n",
       "<style scoped>\n",
       "    .dataframe tbody tr th:only-of-type {\n",
       "        vertical-align: middle;\n",
       "    }\n",
       "\n",
       "    .dataframe tbody tr th {\n",
       "        vertical-align: top;\n",
       "    }\n",
       "\n",
       "    .dataframe thead th {\n",
       "        text-align: right;\n",
       "    }\n",
       "</style>\n",
       "<table border=\"1\" class=\"dataframe\">\n",
       "  <thead>\n",
       "    <tr style=\"text-align: right;\">\n",
       "      <th></th>\n",
       "      <th>stat_date</th>\n",
       "      <th>標題</th>\n",
       "      <th>時間</th>\n",
       "      <th>關鍵字</th>\n",
       "      <th>內容</th>\n",
       "    </tr>\n",
       "  </thead>\n",
       "  <tbody>\n",
       "    <tr>\n",
       "      <th>1</th>\n",
       "      <td>2025-01-28</td>\n",
       "      <td>DeepSeek衝擊台積電ADR   網友驚喜：過年發紅包還不快撿</td>\n",
       "      <td>2025-01-28 14:27:41+00:00</td>\n",
       "      <td>鴻海,台積電</td>\n",
       "      <td>總部位於杭州的人工智慧公司「幻方量化」，旗下的「深度求索」（DeepSeek）公司過低成本硬...</td>\n",
       "    </tr>\n",
       "    <tr>\n",
       "      <th>2</th>\n",
       "      <td>2025-01-28</td>\n",
       "      <td>陸Deepseek屠殺AI股 陸行之曝對台積電、輝達衝擊</td>\n",
       "      <td>2025-01-28 03:08:44+00:00</td>\n",
       "      <td>冠軍,台積電</td>\n",
       "      <td>DeepSeek最新AI模型引爆美國大型科技股暴跌，陸行之認為將結束近2年輝達吃肉，其他公司...</td>\n",
       "    </tr>\n",
       "    <tr>\n",
       "      <th>3</th>\n",
       "      <td>2025-01-28</td>\n",
       "      <td>台積電ADR遭血洗13％ 台股若開盤狂殺多少？謝金河曝驚悚答案</td>\n",
       "      <td>2025-01-28 02:32:40+00:00</td>\n",
       "      <td>台積電,陽明,巨大</td>\n",
       "      <td>大陸AI創新公司「DeepSeek」（深度求索）標榜價廉物美，撼動華爾街，導致周一（27日）...</td>\n",
       "    </tr>\n",
       "  </tbody>\n",
       "</table>\n",
       "</div>"
      ],
      "text/plain": [
       "   stat_date                                 標題                        時間  \\\n",
       "1 2025-01-28  DeepSeek衝擊台積電ADR   網友驚喜：過年發紅包還不快撿 2025-01-28 14:27:41+00:00   \n",
       "2 2025-01-28       陸Deepseek屠殺AI股 陸行之曝對台積電、輝達衝擊 2025-01-28 03:08:44+00:00   \n",
       "3 2025-01-28    台積電ADR遭血洗13％ 台股若開盤狂殺多少？謝金河曝驚悚答案 2025-01-28 02:32:40+00:00   \n",
       "\n",
       "         關鍵字                                                 內容  \n",
       "1     鴻海,台積電  總部位於杭州的人工智慧公司「幻方量化」，旗下的「深度求索」（DeepSeek）公司過低成本硬...  \n",
       "2     冠軍,台積電  DeepSeek最新AI模型引爆美國大型科技股暴跌，陸行之認為將結束近2年輝達吃肉，其他公司...  \n",
       "3  台積電,陽明,巨大  大陸AI創新公司「DeepSeek」（深度求索）標榜價廉物美，撼動華爾街，導致周一（27日）...  "
      ]
     },
     "execution_count": 270,
     "metadata": {},
     "output_type": "execute_result"
    }
   ],
   "source": [
    "pd.concat(df_yahoo_news)"
   ]
  }
 ],
 "metadata": {
  "kernelspec": {
   "display_name": "Python 3 (ipykernel)",
   "language": "python",
   "name": "python3"
  },
  "language_info": {
   "codemirror_mode": {
    "name": "ipython",
    "version": 3
   },
   "file_extension": ".py",
   "mimetype": "text/x-python",
   "name": "python",
   "nbconvert_exporter": "python",
   "pygments_lexer": "ipython3",
   "version": "3.11.7"
  }
 },
 "nbformat": 4,
 "nbformat_minor": 5
}
